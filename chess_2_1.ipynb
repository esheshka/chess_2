{
  "nbformat": 4,
  "nbformat_minor": 0,
  "metadata": {
    "colab": {
      "provenance": [],
      "authorship_tag": "ABX9TyNpFqXxr36mwLAlSHc7Y7Od",
      "include_colab_link": true
    },
    "kernelspec": {
      "name": "python3",
      "display_name": "Python 3"
    },
    "language_info": {
      "name": "python"
    }
  },
  "cells": [
    {
      "cell_type": "markdown",
      "metadata": {
        "id": "view-in-github",
        "colab_type": "text"
      },
      "source": [
        "<a href=\"https://colab.research.google.com/github/esheshka/chess_2/blob/main/chess_2_1.ipynb\" target=\"_parent\"><img src=\"https://colab.research.google.com/assets/colab-badge.svg\" alt=\"Open In Colab\"/></a>"
      ]
    },
    {
      "cell_type": "code",
      "source": [
        "# @title **Классы фигур**\n",
        "\n",
        "from collections.abc import Iterator\n",
        "from abc import ABC, abstractmethod\n",
        "from typing import Literal, NamedTuple\n",
        "\n",
        "class Piece:\n",
        "    def __str__(self) -> str:\n",
        "        return self.name\n",
        "\n",
        "    @abstractmethod\n",
        "    def move(self):\n",
        "        raise NotImplementedError(\"This method should be overridden in subclasses.\")\n",
        "\n",
        "    @abstractmethod\n",
        "    def verify(self, start: str, end: str, board) -> bool:\n",
        "        raise NotImplementedError(\"This method should be overridden in subclasses.\")\n",
        "\n",
        "class Pawn(Piece):\n",
        "    \"\"\"Пешка.\"\"\"\n",
        "    def __init__(self, is_white):\n",
        "        self.is_white = is_white\n",
        "        self.name = 'P' if is_white else 'p'\n",
        "        self.cost = 1\n",
        "\n",
        "    def verify(self, start: str, end: str, board) -> bool:\n",
        "        vector = get_vector(start=start, end=end)\n",
        "\n",
        "        if not self.is_white:\n",
        "            if start[-1] == \"7\" and vector == (0, -2):\n",
        "                return True\n",
        "            if (vector == (-1, -1) or vector == (1, -1)) and end in board:\n",
        "                return True\n",
        "            if vector == (0, -1):\n",
        "                return True\n",
        "\n",
        "        if self.is_white:\n",
        "            if start[-1] == \"2\" and vector == (0, 2):\n",
        "                return True\n",
        "            if (vector == (1, 1) or vector == (-1, 1)) and end in board:\n",
        "                return True\n",
        "            if vector == (0, 1):\n",
        "                return True\n",
        "\n",
        "        return False\n",
        "\n",
        "class Rook(Piece):\n",
        "    \"\"\"Ладья.\"\"\"\n",
        "    def __init__(self, is_white):\n",
        "        self.is_white = is_white\n",
        "        self.name = 'R' if is_white else 'r'\n",
        "        self.cost = 5\n",
        "\n",
        "    def verify(self, start: str, end: str, board) -> bool:\n",
        "        vector = get_vector(start=start, end=end)\n",
        "        return vector[0] == 0 or vector[1] == 0\n",
        "\n",
        "class Knight(Piece):\n",
        "    \"\"\"Конь.\"\"\"\n",
        "    def __init__(self, is_white):\n",
        "        self.is_white = is_white\n",
        "        self.name = 'N' if is_white else 'n'\n",
        "        self.cost = 3\n",
        "\n",
        "    def verify(self, start: str, end: str, board) -> bool:\n",
        "        vector = get_vector(start=start, end=end)\n",
        "        vector_vals = {abs(v) for v in vector}\n",
        "        return vector_vals == {1, 2}\n",
        "\n",
        "class Bishop(Piece):\n",
        "    \"\"\"Слон.\"\"\"\n",
        "    def __init__(self, is_white):\n",
        "        self.is_white = is_white\n",
        "        self.name = 'B' if is_white else 'b'\n",
        "        self.cost = 3\n",
        "\n",
        "    def verify(self, start: str, end: str, board) -> bool:\n",
        "        vector = get_vector(start=start, end=end)\n",
        "        return abs(vector[0]) == abs(vector[1])\n",
        "\n",
        "class Queen(Piece):\n",
        "    \"\"\"Королева.\"\"\"\n",
        "    def __init__(self, is_white):\n",
        "        self.is_white = is_white\n",
        "        self.name = 'Q' if is_white else 'q'\n",
        "        self.cost = 9\n",
        "\n",
        "    def verify(self, start: str, end: str, board) -> bool:\n",
        "        vector = get_vector(start=start, end=end)\n",
        "        x, y = vector\n",
        "        return (abs(x) == abs(y)) or x == 0 or y == 0\n",
        "\n",
        "class King(Piece):\n",
        "    \"\"\"Король.\"\"\"\n",
        "    def __init__(self, is_white):\n",
        "        self.is_white = is_white\n",
        "        self.name = 'K' if is_white else 'k'\n",
        "        self.cost = 0\n",
        "\n",
        "    def verify(self, start: str, end: str, board) -> bool:\n",
        "        vector = get_vector(start=start, end=end)\n",
        "        return abs(vector[0]) <= 1 and abs(vector[1]) <= 1"
      ],
      "metadata": {
        "id": "E_gNv6ZWyvuT"
      },
      "execution_count": 179,
      "outputs": []
    },
    {
      "cell_type": "code",
      "source": [
        "# @title **Класс доски**\n",
        "COLUMN_NAMES = \"ABCDEFGH\"\n",
        "SIZE_X = SIZE_Y = 8\n",
        "\n",
        "class Board:\n",
        "    def __init__(self):\n",
        "        self.board = {}\n",
        "        for column in range(SIZE_Y):\n",
        "            self.board[COLUMN_NAMES[column] + \"8\"] = [Rook(False), Knight(False), Bishop(False), Queen(False), King(False), Bishop(False), Knight(False), Rook(False)][column]\n",
        "            self.board[COLUMN_NAMES[column] + \"7\"] = Pawn(False)\n",
        "            self.board[COLUMN_NAMES[column] + \"1\"] = [Rook(True),  Knight(True),  Bishop(True),  Queen(True),  King(True),  Bishop(True),  Knight(True),  Rook(True)][column]\n",
        "            self.board[COLUMN_NAMES[column] + \"2\"] = Pawn(True)\n",
        "\n",
        "        self.counter = 0\n",
        "\n",
        "    def __str__(self) -> str:\n",
        "        str_board = \"\"\n",
        "        board = self.board\n",
        "\n",
        "        str_board += \"\\n   A B C D E F G H\\n\\n\"\n",
        "        for row_i in reversed(range(1, SIZE_Y + 1)):\n",
        "            str_board += f\"{row_i}  \"\n",
        "            for column in COLUMN_NAMES:\n",
        "                pos = f\"{column}{row_i}\"\n",
        "                str_board += f\"{board[pos]} \" if pos in board else \". \"\n",
        "            str_board += f\" {row_i}\\n\"\n",
        "        str_board += f\"\\n   A B C D E F G H\\n\\n\"\n",
        "\n",
        "        return str_board\n",
        "\n",
        "    def player_is_white(self):\n",
        "        return self.counter % 2 == 0\n",
        "\n",
        "    def num_white_pieces(self) -> int:\n",
        "        ans = 0\n",
        "        for piece in self.board.values():\n",
        "            ans += 1 if piece.is_white else 0\n",
        "        return ans\n",
        "\n",
        "    def num_black_pieces(self) -> int:\n",
        "        ans = 0\n",
        "        for piece in self.board.values():\n",
        "            ans += 1 if not piece.is_white else 0\n",
        "        return ans\n",
        "\n",
        "    def balance(self) -> int:\n",
        "        ans = 0\n",
        "        for piece in self.board.values():\n",
        "            ans += piece.cost * (1 if piece.is_white else -1)\n",
        "        return ans * -1\n",
        "\n",
        "    def __contains__(self, piece: Piece) -> bool:\n",
        "        for piece_on_board in self.board.values():\n",
        "            if piece.name == piece_on_board.name:\n",
        "                return True\n",
        "        return False\n",
        "\n",
        "    def __getitem__(self, pos) -> Piece:\n",
        "        if pos in self.board:\n",
        "            return self.board[pos]"
      ],
      "metadata": {
        "id": "Qy5O_6Gk1CDN"
      },
      "execution_count": 152,
      "outputs": []
    },
    {
      "cell_type": "code",
      "source": [
        "from enum import Enum\n",
        "\n",
        "ErrorType = Enum(\n",
        "    \"ErrorType\",\n",
        "    {\n",
        "        \"FORMAT\": \"Wrong input format\",\n",
        "        \"INVALID_MOVE\": \"The piece cannot make the specified move\",\n",
        "    },\n",
        ")"
      ],
      "metadata": {
        "id": "xyQoAp2GICUs"
      },
      "execution_count": 67,
      "outputs": []
    },
    {
      "cell_type": "code",
      "execution_count": 60,
      "metadata": {
        "cellView": "form",
        "id": "yNbliuu9lSS2"
      },
      "outputs": [],
      "source": [
        "# @title **ТЕХНИЧЕСКАЯ ЧАСТЬ**\n",
        "# *---------------------*#\n",
        "# *--ТЕХНИЧЕСКАЯ ЧАСТЬ--*#\n",
        "# *--НЕ РЕДАКТИРОВАТЬ!--*#\n",
        "def check_task1():\n",
        "    try:\n",
        "        assert 'Piece' in sorted(globals()), \"No root class 'Piece' in task\"\n",
        "        assert 'Board' in sorted(globals()), \"No class 'Board' in task\"\n",
        "        assert len([c for c in sorted(globals()) if type(eval(c)) == type(Piece) and issubclass(eval(\n",
        "            c), Piece) and eval(c).__name__ != 'Piece']) == 6, \"Less then 6 child classes of class 'Piece'\"\n",
        "        assert 'num_white_pieces' in dir(Board) and 'num_black_pieces' in dir(\n",
        "            Board), \"No methods 'num_black_pieces' or 'num_white_pieces' in 'Board' class\"\n",
        "        assert 'balance' in dir(Board), \"No method 'balance' in 'Board' class\"\n",
        "        assert '__contains__' in dir(\n",
        "            Board), \"No method '__contains__' in 'Board' class\"\n",
        "        assert 'Board' not in str(\n",
        "            Board()), \"No custom '__str__' method in class 'Board'\"\n",
        "        assert '__getitem__' in dir(\n",
        "            Board), \"No method '__getitem__' in 'Board' class\"\n",
        "\n",
        "    except AssertionError as e:\n",
        "        print(\n",
        "            f'Something went wrong with requirements written in task condition. Desciption: {e}')\n",
        "\n",
        "check_task1()\n",
        "# *---------------------*#"
      ]
    },
    {
      "cell_type": "markdown",
      "source": [
        "# **Логика передвижения**"
      ],
      "metadata": {
        "id": "N2tJVMXyI6Po"
      }
    },
    {
      "cell_type": "code",
      "source": [
        "def parse_move(inp: str) -> tuple[tuple[str, str] | None, ErrorType | None]:\n",
        "    \"\"\"Данная функция обрабатывает ввод хода: производит несколько проверок корректности и вызывает ранее объявленные функции проверок.\"\"\"\n",
        "    step = inp.upper().split(\"-\")\n",
        "    if len(step) != 2:\n",
        "        return None, ErrorType.FORMAT\n",
        "\n",
        "    pos_start, pos_end = step[0], step[1]\n",
        "    if pos_start == pos_end:\n",
        "        return None, ErrorType.INVALID_MOVE\n",
        "\n",
        "    if is_incorrect_pos(pos_start) or is_incorrect_pos(pos_end):\n",
        "        return None, ErrorType.FORMAT\n",
        "\n",
        "    return ((pos_start, pos_end), None)\n"
      ],
      "metadata": {
        "id": "hJwCT84mH4u0"
      },
      "execution_count": 181,
      "outputs": []
    },
    {
      "cell_type": "code",
      "source": [
        "def validate_move(\n",
        "    start: str, end: str, board: Board) -> tuple[bool, ErrorType | None]:\n",
        "    fig = board[start]\n",
        "\n",
        "    if fig is None:\n",
        "        return False, ErrorType.INVALID_MOVE\n",
        "\n",
        "    if not is_fig_friendly(fig, board.player_is_white()):\n",
        "        return False, ErrorType.INVALID_MOVE\n",
        "\n",
        "    if not fig.verify(start=start, end=end, board=board.board):\n",
        "        return False, ErrorType.INVALID_MOVE\n",
        "\n",
        "    is_knight = fig.name.lower() == \"n\"\n",
        "    if not is_knight and has_obstacle(start=start, end=end, board=board.board):\n",
        "        return False, ErrorType.INVALID_MOVE\n",
        "\n",
        "    is_pawn = fig.name.lower() == \"p\"\n",
        "    is_end_empty = end not in board.board\n",
        "    end_fig = board[end]\n",
        "\n",
        "    is_end_enemy = end_fig is not None and not is_fig_friendly(end_fig, board.player_is_white())\n",
        "\n",
        "    v = get_vector(start, end)\n",
        "    is_move_diag = v[0] != 0\n",
        "\n",
        "    is_valid_pawn_move = is_end_empty or (is_move_diag and is_end_enemy)\n",
        "\n",
        "    if is_pawn and not is_valid_pawn_move:\n",
        "        return False, ErrorType.INVALID_MOVE\n",
        "\n",
        "    if end in board.board:\n",
        "        if is_fig_friendly(board[end], board.player_is_white()):\n",
        "            return False, ErrorType.INVALID_MOVE\n",
        "\n",
        "    return True, None"
      ],
      "metadata": {
        "id": "dxRmKYnGJb-w"
      },
      "execution_count": 182,
      "outputs": []
    },
    {
      "cell_type": "code",
      "source": [
        "def has_obstacle(start: str, end: str, board: dict[str, str]) -> bool:\n",
        "    \"\"\"Функция проверяет наличие препятствий по ходу фигуры.\"\"\"\n",
        "    for path_func in (get_straight_path, get_diag_path):\n",
        "        path = path_func(start, end)\n",
        "        for temp_pos in path:\n",
        "            if temp_pos is None:\n",
        "                break\n",
        "\n",
        "            if temp_pos in board:\n",
        "                return True\n",
        "\n",
        "    return False"
      ],
      "metadata": {
        "id": "NxkMa4cewVZM"
      },
      "execution_count": 164,
      "outputs": []
    },
    {
      "cell_type": "code",
      "source": [
        "def get_straight_path(start: str, end: str) -> Iterator[str | None]:\n",
        "    v = get_vector(start, end)\n",
        "    is_vector_straight = 0 in v\n",
        "\n",
        "    if not is_vector_straight or start == end:\n",
        "        return None\n",
        "\n",
        "    start_int = pos_to_int(start)\n",
        "    end_int = pos_to_int(end)\n",
        "\n",
        "    zero_dim = v.index(0)\n",
        "    non_zero_dim = 1 - zero_dim\n",
        "\n",
        "    start_i, end_i = start_int[non_zero_dim], end_int[non_zero_dim]\n",
        "    if start_i > end_i:\n",
        "        start_i, end_i = end_i, start_i\n",
        "\n",
        "    for i in range(start_i + 1, end_i):\n",
        "        new_pos_int_ = list(start_int)\n",
        "        new_pos_int_[non_zero_dim] = i\n",
        "        new_pos = pos_from_int(tuple(new_pos_int_))  # type: ignore[arg-type]\n",
        "        yield new_pos\n",
        "\n",
        "\n",
        "def get_diag_path(start: str, end: str) -> Iterator[str | None]:\n",
        "    v = get_vector(start, end)\n",
        "    start_int = pos_to_int(start)\n",
        "    end_int = pos_to_int(end)\n",
        "\n",
        "    is_vector_diag = abs(v[0]) == abs(v[1])\n",
        "    if not is_vector_diag or start == end:\n",
        "        return None\n",
        "\n",
        "    x_sgn = sgn(v[0])\n",
        "    y_sgn = sgn(v[1])\n",
        "    x_values = range(start_int[0] + x_sgn, end_int[0], x_sgn)\n",
        "    y_values = range(start_int[1] + y_sgn, end_int[1], y_sgn)\n",
        "    for i, j in zip(x_values, y_values):\n",
        "        new_pos_int = (i, j)\n",
        "        new_pos = pos_from_int(new_pos_int)\n",
        "        yield new_pos"
      ],
      "metadata": {
        "id": "ZRmlQtYbw2Ca"
      },
      "execution_count": 163,
      "outputs": []
    },
    {
      "cell_type": "code",
      "source": [
        "def sgn(number: int) -> Literal[-1, 0, 1]:\n",
        "    \"\"\"Вспомогательная функция, определяющая знак переданного числа.\"\"\"\n",
        "    if number > 0:\n",
        "        return 1\n",
        "    if number < 0:\n",
        "        return -1\n",
        "    return 0"
      ],
      "metadata": {
        "id": "aOIMrsJvy0Kt"
      },
      "execution_count": 177,
      "outputs": []
    },
    {
      "cell_type": "code",
      "source": [
        "def get_vector(start: str, end: str) -> tuple[int, int]:\n",
        "    \"\"\"Функция, возвращающая вектор перемещения фигуры.\"\"\"\n",
        "    start_v, end_v = (\n",
        "        (COLUMN_NAMES.index(start[0]), int(start[-1])),\n",
        "        (COLUMN_NAMES.index(end[0]), int(end[-1])),\n",
        "    )\n",
        "    return end_v[0] - start_v[0], end_v[-1] - start_v[-1]"
      ],
      "metadata": {
        "id": "nPIHZltmRPpN"
      },
      "execution_count": 81,
      "outputs": []
    },
    {
      "cell_type": "code",
      "source": [
        "def is_incorrect_pos(pos: str) -> bool:\n",
        "    return (\n",
        "        not len(pos) == 2\n",
        "        or pos[-1] not in \"12345678\"\n",
        "        or pos[0] not in COLUMN_NAMES\n",
        "    )"
      ],
      "metadata": {
        "id": "_jeyotQMIcAa"
      },
      "execution_count": 82,
      "outputs": []
    },
    {
      "cell_type": "code",
      "source": [
        "def is_fig_friendly(fig: str, player_is_white: bool) -> bool:\n",
        "    return fig.is_white == player_is_white"
      ],
      "metadata": {
        "id": "4Sc6SqfZLbOF"
      },
      "execution_count": 83,
      "outputs": []
    },
    {
      "cell_type": "code",
      "source": [
        "def pos_to_int(pos: str) -> tuple[int, int]:\n",
        "    x, y = tuple(pos)\n",
        "    return COLUMN_NAMES.index(x), int(y)"
      ],
      "metadata": {
        "id": "XkFPiKzHyCrd"
      },
      "execution_count": 168,
      "outputs": []
    },
    {
      "cell_type": "code",
      "source": [
        "def pos_from_int(pos_int: tuple[int, int]) -> str:\n",
        "    x, y = pos_int\n",
        "    return f\"{COLUMN_NAMES[x]}{y}\""
      ],
      "metadata": {
        "id": "9jube1FpyIac"
      },
      "execution_count": 170,
      "outputs": []
    },
    {
      "cell_type": "code",
      "source": [
        "def move_fig(start: str, end: str, board: Board) -> None:\n",
        "    fig = board.board.pop(start)\n",
        "    board.board[end] = fig"
      ],
      "metadata": {
        "id": "7SLa9flJyQM4"
      },
      "execution_count": 172,
      "outputs": []
    },
    {
      "cell_type": "markdown",
      "source": [
        "# **Запуск программы**"
      ],
      "metadata": {
        "id": "BUdPz0xYJBXn"
      }
    },
    {
      "cell_type": "code",
      "source": [
        "def log_error(err: ErrorType) -> None:\n",
        "    print(f\"Error. Type: {err.value}.\")"
      ],
      "metadata": {
        "id": "KVxk-dx1JOs-"
      },
      "execution_count": 85,
      "outputs": []
    },
    {
      "cell_type": "code",
      "source": [
        "def main() -> None:\n",
        "    board = Board()\n",
        "\n",
        "    while True:\n",
        "        player_name = \"white\" if board.player_is_white() else \"black\"\n",
        "        player_step_num = board.counter // 2 + 1\n",
        "        cmd = input(f\"{player_name} {player_step_num}:\\n\")\n",
        "\n",
        "        if cmd == \"draw\":\n",
        "            print(board)\n",
        "            continue\n",
        "\n",
        "        if cmd == \"exit\":\n",
        "            return\n",
        "\n",
        "        if cmd == \"balance white\":\n",
        "            print(board.balance() * -1)\n",
        "            continue\n",
        "        if cmd == \"balance black\":\n",
        "            print(board.balance())\n",
        "            continue\n",
        "\n",
        "        move, err = parse_move(cmd)\n",
        "        if err is not None:\n",
        "            log_error(err)\n",
        "            continue\n",
        "        assert move is not None\n",
        "        pos_start, pos_end = move\n",
        "\n",
        "        _, err = validate_move(\n",
        "            start = pos_start,\n",
        "            end = pos_end,\n",
        "            board = board,\n",
        "        )\n",
        "        if err is not None:\n",
        "            log_error(err)\n",
        "            continue\n",
        "\n",
        "        move_fig(start=pos_start, end=pos_end, board=board)\n",
        "\n",
        "        board.counter += 1\n",
        "\n",
        "if __name__ == \"__main__\":\n",
        "    main()"
      ],
      "metadata": {
        "colab": {
          "base_uri": "https://localhost:8080/"
        },
        "id": "GaR_WelCAQEz",
        "outputId": "6090e6ed-4c77-40bb-d23f-f27832d52c29"
      },
      "execution_count": 184,
      "outputs": [
        {
          "name": "stdout",
          "output_type": "stream",
          "text": [
            "white 1:\n",
            "e2-e4\n",
            "black 1:\n",
            "f7-f5\n",
            "white 2:\n",
            "balance white\n",
            "0\n",
            "white 2:\n",
            "balance black\n",
            "0\n",
            "white 2:\n",
            "e4-f5\n",
            "black 2:\n",
            "balance white\n",
            "1\n",
            "black 2:\n",
            "balance black\n",
            "-1\n",
            "black 2:\n",
            "draw\n",
            "\n",
            "   A B C D E F G H\n",
            "\n",
            "8  r n b q k b n r  8\n",
            "7  p p p p p . p p  7\n",
            "6  . . . . . . . .  6\n",
            "5  . . . . . P . .  5\n",
            "4  . . . . . . . .  4\n",
            "3  . . . . . . . .  3\n",
            "2  P P P P . P P P  2\n",
            "1  R N B Q K B N R  1\n",
            "\n",
            "   A B C D E F G H\n",
            "\n",
            "\n",
            "black 2:\n",
            "exit\n"
          ]
        }
      ]
    },
    {
      "cell_type": "code",
      "source": [],
      "metadata": {
        "id": "e9-5R82zEbU3"
      },
      "execution_count": null,
      "outputs": []
    }
  ]
}